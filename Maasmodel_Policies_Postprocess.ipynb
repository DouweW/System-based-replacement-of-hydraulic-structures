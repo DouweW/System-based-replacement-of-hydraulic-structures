{
 "cells": [
  {
   "cell_type": "code",
   "execution_count": 1,
   "metadata": {},
   "outputs": [
    {
     "name": "stderr",
     "output_type": "stream",
     "text": [
      "C:\\Programs\\Anaconda3\\lib\\site-packages\\ema_workbench\\connectors\\__init__.py:27: ImportWarning: netlogo connector not available\n",
      "  warnings.warn(\"netlogo connector not available\", ImportWarning)\n",
      "C:\\Programs\\Anaconda3\\lib\\importlib\\_bootstrap.py:219: ImportWarning: can't resolve package from __spec__ or __package__, falling back on __name__ and __path__\n",
      "  return f(*args, **kwds)\n",
      "C:\\Programs\\Anaconda3\\lib\\importlib\\_bootstrap.py:219: ImportWarning: can't resolve package from __spec__ or __package__, falling back on __name__ and __path__\n",
      "  return f(*args, **kwds)\n",
      "C:\\Programs\\Anaconda3\\lib\\importlib\\_bootstrap.py:219: ImportWarning: can't resolve package from __spec__ or __package__, falling back on __name__ and __path__\n",
      "  return f(*args, **kwds)\n",
      "C:\\Programs\\Anaconda3\\lib\\site-packages\\sklearn\\ensemble\\weight_boosting.py:29: DeprecationWarning: numpy.core.umath_tests is an internal NumPy module and should not be imported. It will be removed in a future NumPy release.\n",
      "  from numpy.core.umath_tests import inner1d\n",
      "C:\\Programs\\Anaconda3\\lib\\importlib\\_bootstrap.py:219: ImportWarning: can't resolve package from __spec__ or __package__, falling back on __name__ and __path__\n",
      "  return f(*args, **kwds)\n"
     ]
    }
   ],
   "source": [
    "from __future__ import (division, unicode_literals, absolute_import,\n",
    "                        print_function)\n",
    "\n",
    "from ema_workbench import (Model, RealParameter, Constant, CategoricalParameter, \n",
    "                           TimeSeriesOutcome, ScalarOutcome, ema_logging, perform_experiments, \n",
    "                           MultiprocessingEvaluator, Policy)\n",
    "from ema_workbench.connectors.vensim import (VensimModel , VensimModelStructureInterface, set_value)\n",
    "from ema_workbench.em_framework.samplers import sample_levers\n",
    "from ema_workbench.util.utilities import save_results\n",
    "from ema_workbench import load_results\n",
    "from ema_workbench.analysis.pairs_plotting import (pairs_lines, pairs_scatter)\n",
    "from ema_workbench.analysis import clusterer, plotting, Density, prim\n",
    "from ema_workbench.analysis.plotting import lines, envelopes, kde_over_time, multiple_densities\n",
    "\n",
    "\n",
    "\n",
    "import timeit\n",
    "import matplotlib.pyplot as plt\n",
    "import numpy as np\n",
    "import seaborn as sns\n",
    "import pandas as pd\n",
    "import itertools\n",
    "\n",
    "from ema_workbench.analysis.plotting import lines"
   ]
  },
  {
   "cell_type": "markdown",
   "metadata": {},
   "source": [
    "# Select vensim file"
   ]
  },
  {
   "cell_type": "code",
   "execution_count": 2,
   "metadata": {},
   "outputs": [],
   "source": [
    "wd = r'./VENSIM' # Directory of the vensim model\n",
    "model_file=r'Maasmodel_v075.vpmx' # Name of the vensim model"
   ]
  },
  {
   "cell_type": "markdown",
   "metadata": {},
   "source": [
    "# General manual input"
   ]
  },
  {
   "cell_type": "code",
   "execution_count": 3,
   "metadata": {},
   "outputs": [],
   "source": [
    "#FILL IN THIS CELL\n",
    "#WEIR\n",
    "Crest_level_weir1 = 8.35\n",
    "Crest_level_weir2 = 7.15\n",
    "Crest_level_weir3 = 6.9\n",
    "Crest_level_weir4 = 7.2\n",
    "Crest_level_weir5 = [8.4, 8.6]\n",
    "Crest_level_weir6 = 10.9\n",
    "Location_weir1    = 57500\n",
    "Location_weir2    = 69500\n",
    "Location_weir3    = 87500\n",
    "Location_weir4    = 135500\n",
    "Location_weir5    = [163500, 150500]\n",
    "Location_weir6    = 189500\n",
    "Leakage_low_weir1    = 1.2e6\n",
    "Leakage_low_weir2    = 1e6\n",
    "Leakage_low_weir3    = 1e6\n",
    "Leakage_low_weir4    = 3e6\n",
    "Leakage_low_weir5    = 3e6\n",
    "Leakage_low_weir6    = 2e6\n",
    "Leakage_up_weir1     = 6e6\n",
    "Leakage_up_weir2     = 5e6\n",
    "Leakage_up_weir3     = 5e6\n",
    "Leakage_up_weir4     = 9e6\n",
    "Leakage_up_weir5     = 9e6\n",
    "Leakage_up_weir6     = 8e6\n",
    "\n",
    "#LOCK\n",
    "Intensity_commercial_lock1 = 44\n",
    "Intensity_commercial_lock2 = 62\n",
    "Intensity_commercial_lock3 = 439\n",
    "Intensity_commercial_lock4 = 547\n",
    "Intensity_commercial_lock5 = 289\n",
    "Intensity_commercial_lock6 = 334\n",
    "Intensity_leisure_lock1 = 643\n",
    "Intensity_leisure_lock2 = 518\n",
    "Intensity_leisure_lock3 = 458\n",
    "Intensity_leisure_lock4 = 498\n",
    "Intensity_leisure_lock5 = 511\n",
    "Intensity_leisure_lock6 = 807"
   ]
  },
  {
   "cell_type": "markdown",
   "metadata": {},
   "source": [
    "Make arrays to feed lookups"
   ]
  },
  {
   "cell_type": "code",
   "execution_count": 4,
   "metadata": {},
   "outputs": [],
   "source": [
    "#NAME CLIMATE SCENARIOS\n",
    "CS1 = 'Climate scenario GL'\n",
    "CS2 = 'Climate scenario WH'\n",
    "\n",
    "#SAVE FIGURE\n",
    "save = False\n",
    "fig_size = (10,7)\n",
    "dpi = 300\n",
    "%matplotlib inline\n",
    "\n",
    "#Starting year\n",
    "start_year = 2020\n",
    "end_year   = 2100\n",
    "\n",
    "\n",
    "#100 years\n",
    "years = np.linspace(start_year,end_year,81)\n",
    "\n",
    "#SECONDS TO Week\n",
    "SEC_WEEK = 60*60*24*7 \n",
    "\n",
    "#Different draught durations in weeks\n",
    "Draught_durations = [4,6,8,10,12,14,16] #Duur van de droogte periode variërend van 4 tot 16 weken\n",
    "\n",
    "#Different draught intensities in m3/s\n",
    "Draught_intensities = [20,25,30,35,40,45,1000] #Maximale afvoer in periodes van droogte, 1000 staat voor geen droogte periode \n",
    "\n",
    "#Distance from inflow\n",
    "distance_inflow = np.linspace(500, 189500, 190)\n",
    "\n",
    "#100 year discharge series\n",
    "year_100_dischargeseries = list(range(1911,2015))"
   ]
  },
  {
   "cell_type": "code",
   "execution_count": null,
   "metadata": {},
   "outputs": [],
   "source": []
  },
  {
   "cell_type": "markdown",
   "metadata": {},
   "source": [
    "# Model"
   ]
  },
  {
   "cell_type": "code",
   "execution_count": 5,
   "metadata": {},
   "outputs": [],
   "source": [
    "# instantiate a model\n",
    "vensimModel = VensimModel('MaasModel', wd=wd, model_file=model_file)\n"
   ]
  },
  {
   "cell_type": "code",
   "execution_count": null,
   "metadata": {},
   "outputs": [],
   "source": []
  },
  {
   "cell_type": "markdown",
   "metadata": {},
   "source": [
    "# Experiments info and load the results"
   ]
  },
  {
   "cell_type": "code",
   "execution_count": 6,
   "metadata": {},
   "outputs": [],
   "source": [
    "policies = [Policy('No policy',**{'Crest level summer': 0, 'Crest level weir[Weir5]': 8.4, 'Levelling restrictions switch': 0, 'Pump switch': 0, 'Weir location[Weir5]': 163500, 'Crest level weir[Weir6]':8.5}),\n",
    "Policy('Crest Grave raised',**{'Crest level summer': 0, 'Crest level weir[Weir5]': 8.6, 'Levelling restrictions switch': 0, 'Pump switch': 0, 'Weir location[Weir5]': 163500, 'Crest level weir[Weir6]':8.5}),\n",
    "Policy('Dynamic crest level',**{'Crest level summer': 0.2, 'Crest level weir[Weir5]': 8.4, 'Levelling restrictions switch': 0, 'Pump switch': 0, 'Weir location[Weir5]': 163500, 'Crest level weir[Weir6]':8.5}),\n",
    "Policy('Pumps on',**{'Crest level summer': 0, 'Crest level weir[Weir5]': 8.4, 'Levelling restrictions switch': 0, 'Pump switch': 1, 'Weir location[Weir5]': 163500, 'Crest level weir[Weir6]':8.5}),\n",
    "Policy('Levelling restrictions',**{'Crest level summer': 0, 'Crest level weir[Weir5]': 8.4, 'Levelling restrictions switch': 1, 'Pump switch': 0, 'Weir location[Weir5]': 163500, 'Crest level weir[Weir6]':8.5}),\n",
    "Policy('Relocate weir',**{'Crest level summer': 0, 'Crest level weir[Weir5]': 8.4, 'Levelling restrictions switch': 0, 'Pump switch': 0, 'Weir location[Weir5]': 150500, 'Crest level weir[Weir6]':8.5}),\n",
    "Policy('Relocate weir and raise crest level Lith',**{'Crest level summer': 0, 'Crest level weir[Weir5]': 8.4, 'Levelling restrictions switch': 0, 'Pump switch': 0, 'Weir location[Weir5]': 150500, 'Crest level weir[Weir6]':8.7}),\n",
    "Policy('Crest level raised and pumps on',**{'Crest level summer': 0, 'Crest level weir[Weir5]': 8.6, 'Levelling restrictions switch': 0, 'Pump switch': 1, 'Weir location[Weir5]': 163500, 'Crest level weir[Weir6]':8.5}),\n",
    "Policy('Dynamic crest level and pumps on',**{'Crest level summer': 0.2, 'Crest level weir[Weir5]': 8.4, 'Levelling restrictions switch': 0, 'Pump switch': 1, 'Weir location[Weir6]': 163500, 'Crest level weir[Weir6]':8.5}),\n",
    "Policy('Crest level raised and levelling restrictions',**{'Crest level summer': 0, 'Crest level weir[Weir5]': 8.6, 'Levelling restrictions switch': 1, 'Pump switch': 0, 'Weir location[Weir5]': 163500, 'Crest level weir[Weir6]':8.5}),\n",
    "Policy('Dynamic crest level and levelling restrictions',**{'Crest level summer': 0.2, 'Crest level weir[Weir5]': 8.4, 'Levelling restrictions switch': 1, 'Pump switch': 0, 'Weir location[Weir5]': 163500, 'Crest level weir[Weir6]':8.5}),\n",
    "Policy('Relocate weir and pumps on',**{'Crest level summer': 0, 'Crest level weir[Weir5]': 8.4, 'Levelling restrictions switch': 0, 'Pump switch': 1, 'Weir location[Weir5]': 150500, 'Crest level weir[Weir6]':8.5}),\n",
    "Policy('Relocate weir and levelling restrictions',**{'Crest level summer': 0, 'Crest level weir[Weir5]': 8.4, 'Levelling restrictions switch': 1, 'Pump switch': 0, 'Weir location[Weir5]': 150500, 'Crest level weir[Weir6]':8.5})\n",
    "           ]\n"
   ]
  },
  {
   "cell_type": "code",
   "execution_count": 7,
   "metadata": {},
   "outputs": [
    {
     "name": "stdout",
     "output_type": "stream",
     "text": [
      "Simulating the model with 8000 scenarios and 13 design decisions\n"
     ]
    }
   ],
   "source": [
    "nr_scenarios = 8000\n",
    "nr_policies = len(policies)\n",
    "nr_experiments = nr_scenarios*nr_policies\n",
    "\n",
    "\n",
    "print('Simulating the model with', nr_scenarios, 'scenarios and', nr_policies, 'design decisions')"
   ]
  },
  {
   "cell_type": "markdown",
   "metadata": {},
   "source": [
    "Load results"
   ]
  },
  {
   "cell_type": "code",
   "execution_count": 8,
   "metadata": {},
   "outputs": [],
   "source": [
    "data = r'C:\\Users\\douwe\\OneDrive\\Documenten\\1.0 School\\8.0 Thesis\\5.0 Execution\\Maasmodel\\Results\\Policies_104000a.tar'\n",
    "results = load_results(data)\n",
    "experiments, outcomes = results"
   ]
  },
  {
   "cell_type": "markdown",
   "metadata": {},
   "source": [
    "# Data Postprocessing"
   ]
  },
  {
   "cell_type": "code",
   "execution_count": 9,
   "metadata": {},
   "outputs": [
    {
     "data": {
      "text/plain": [
       "['TIME',\n",
       " 'Percentage of full fresh water buffer[Weir1]',\n",
       " 'Percentage of full fresh water buffer[Weir2]',\n",
       " 'Percentage of full fresh water buffer[Weir3]',\n",
       " 'Percentage of full fresh water buffer[Weir4]',\n",
       " 'Percentage of full fresh water buffer[Weir5]',\n",
       " 'Percentage of full fresh water buffer[Weir6]',\n",
       " 'Average velocity through weir section[Weir1]',\n",
       " 'Average velocity through weir section[Weir2]',\n",
       " 'Average velocity through weir section[Weir3]',\n",
       " 'Average velocity through weir section[Weir4]',\n",
       " 'Average velocity through weir section[Weir5]',\n",
       " 'Average velocity through weir section[Weir6]',\n",
       " '\"I/C value at lock\"[Weir1]',\n",
       " '\"I/C value at lock\"[Weir2]',\n",
       " '\"I/C value at lock\"[Weir3]',\n",
       " '\"I/C value at lock\"[Weir4]',\n",
       " '\"I/C value at lock\"[Weir5]',\n",
       " '\"I/C value at lock\"[Weir6]',\n",
       " 'Days of free flow',\n",
       " 'Water depth[S1]',\n",
       " 'Water depth[S2]',\n",
       " 'Water depth[S3]',\n",
       " 'Water depth[S4]',\n",
       " 'Water depth[S5]',\n",
       " 'Water depth[S6]',\n",
       " 'Water depth[S7]',\n",
       " 'Water depth[S8]',\n",
       " 'Water depth[S9]',\n",
       " 'Water depth[S10]',\n",
       " 'Water depth[S11]',\n",
       " 'Water depth[S12]',\n",
       " 'Water depth[S13]',\n",
       " 'Water depth[S14]',\n",
       " 'Water depth[S15]',\n",
       " 'Water depth[S16]',\n",
       " 'Water depth[S17]',\n",
       " 'Water depth[S18]',\n",
       " 'Water depth[S19]',\n",
       " 'Water depth[S20]',\n",
       " 'Water depth[S21]',\n",
       " 'Water depth[S22]',\n",
       " 'Water depth[S23]',\n",
       " 'Water depth[S24]',\n",
       " 'Water depth[S25]',\n",
       " 'Water depth[S26]',\n",
       " 'Water depth[S27]',\n",
       " 'Water depth[S28]',\n",
       " 'Water depth[S29]',\n",
       " 'Water depth[S30]',\n",
       " 'Water depth[S31]',\n",
       " 'Water depth[S32]',\n",
       " 'Water depth[S33]',\n",
       " 'Water depth[S34]',\n",
       " 'Water depth[S35]',\n",
       " 'Water depth[S36]',\n",
       " 'Water depth[S37]',\n",
       " 'Water depth[S38]',\n",
       " 'Water depth[S39]',\n",
       " 'Water depth[S40]',\n",
       " 'Water depth[S41]',\n",
       " 'Water depth[S42]',\n",
       " 'Water depth[S43]',\n",
       " 'Water depth[S44]',\n",
       " 'Water depth[S45]',\n",
       " 'Water depth[S46]',\n",
       " 'Water depth[S47]',\n",
       " 'Water depth[S48]',\n",
       " 'Water depth[S49]',\n",
       " 'Water depth[S50]',\n",
       " 'Water depth[S51]',\n",
       " 'Water depth[S52]',\n",
       " 'Water depth[S53]',\n",
       " 'Water depth[S54]',\n",
       " 'Water depth[S55]',\n",
       " 'Water depth[S56]',\n",
       " 'Water depth[S57]',\n",
       " 'Water depth[S58]',\n",
       " 'Water depth[S59]',\n",
       " 'Water depth[S60]',\n",
       " 'Water depth[S61]',\n",
       " 'Water depth[S62]',\n",
       " 'Water depth[S63]',\n",
       " 'Water depth[S64]',\n",
       " 'Water depth[S65]',\n",
       " 'Water depth[S66]',\n",
       " 'Water depth[S67]',\n",
       " 'Water depth[S68]',\n",
       " 'Water depth[S69]',\n",
       " 'Water depth[S70]',\n",
       " 'Water depth[S71]',\n",
       " 'Water depth[S72]',\n",
       " 'Water depth[S73]',\n",
       " 'Water depth[S74]',\n",
       " 'Water depth[S75]',\n",
       " 'Water depth[S76]',\n",
       " 'Water depth[S77]',\n",
       " 'Water depth[S78]',\n",
       " 'Water depth[S79]',\n",
       " 'Water depth[S80]',\n",
       " 'Water depth[S81]',\n",
       " 'Water depth[S82]',\n",
       " 'Water depth[S83]',\n",
       " 'Water depth[S84]',\n",
       " 'Water depth[S85]',\n",
       " 'Water depth[S86]',\n",
       " 'Water depth[S87]',\n",
       " 'Water depth[S88]',\n",
       " 'Water depth[S89]',\n",
       " 'Water depth[S90]',\n",
       " 'Water depth[S91]',\n",
       " 'Water depth[S92]',\n",
       " 'Water depth[S93]',\n",
       " 'Water depth[S94]',\n",
       " 'Water depth[S95]',\n",
       " 'Water depth[S96]',\n",
       " 'Water depth[S97]',\n",
       " 'Water depth[S98]',\n",
       " 'Water depth[S99]',\n",
       " 'Water depth[S100]',\n",
       " 'Water depth[S101]',\n",
       " 'Water depth[S102]',\n",
       " 'Water depth[S103]',\n",
       " 'Water depth[S104]',\n",
       " 'Water depth[S105]',\n",
       " 'Water depth[S106]',\n",
       " 'Water depth[S107]',\n",
       " 'Water depth[S108]',\n",
       " 'Water depth[S109]',\n",
       " 'Water depth[S110]',\n",
       " 'Water depth[S111]',\n",
       " 'Water depth[S112]',\n",
       " 'Water depth[S113]',\n",
       " 'Water depth[S114]',\n",
       " 'Water depth[S115]',\n",
       " 'Water depth[S116]',\n",
       " 'Water depth[S117]',\n",
       " 'Water depth[S118]',\n",
       " 'Water depth[S119]',\n",
       " 'Water depth[S120]',\n",
       " 'Water depth[S121]',\n",
       " 'Water depth[S122]',\n",
       " 'Water depth[S123]',\n",
       " 'Water depth[S124]',\n",
       " 'Water depth[S125]',\n",
       " 'Water depth[S126]',\n",
       " 'Water depth[S127]',\n",
       " 'Water depth[S128]',\n",
       " 'Water depth[S129]',\n",
       " 'Water depth[S130]',\n",
       " 'Water depth[S131]',\n",
       " 'Water depth[S132]',\n",
       " 'Water depth[S133]',\n",
       " 'Water depth[S134]',\n",
       " 'Water depth[S135]',\n",
       " 'Water depth[S136]',\n",
       " 'Water depth[S137]',\n",
       " 'Water depth[S138]',\n",
       " 'Water depth[S139]',\n",
       " 'Water depth[S140]',\n",
       " 'Water depth[S141]',\n",
       " 'Water depth[S142]',\n",
       " 'Water depth[S143]',\n",
       " 'Water depth[S144]',\n",
       " 'Water depth[S145]',\n",
       " 'Water depth[S146]',\n",
       " 'Water depth[S147]',\n",
       " 'Water depth[S148]',\n",
       " 'Water depth[S149]',\n",
       " 'Water depth[S150]',\n",
       " 'Water depth[S151]',\n",
       " 'Water depth[S152]',\n",
       " 'Water depth[S153]',\n",
       " 'Water depth[S154]',\n",
       " 'Water depth[S155]',\n",
       " 'Water depth[S156]',\n",
       " 'Water depth[S157]',\n",
       " 'Water depth[S158]',\n",
       " 'Water depth[S159]',\n",
       " 'Water depth[S160]',\n",
       " 'Water depth[S161]',\n",
       " 'Water depth[S162]',\n",
       " 'Water depth[S163]',\n",
       " 'Water depth[S164]',\n",
       " 'Water depth[S165]',\n",
       " 'Water depth[S166]',\n",
       " 'Water depth[S167]',\n",
       " 'Water depth[S168]',\n",
       " 'Water depth[S169]',\n",
       " 'Water depth[S170]',\n",
       " 'Water depth[S171]',\n",
       " 'Water depth[S172]',\n",
       " 'Water depth[S173]',\n",
       " 'Water depth[S174]',\n",
       " 'Water depth[S175]',\n",
       " 'Water depth[S176]',\n",
       " 'Water depth[S177]',\n",
       " 'Water depth[S178]',\n",
       " 'Water depth[S179]',\n",
       " 'Water depth[S180]',\n",
       " 'Water depth[S181]',\n",
       " 'Water depth[S182]',\n",
       " 'Water depth[S183]',\n",
       " 'Water depth[S184]',\n",
       " 'Water depth[S185]',\n",
       " 'Water depth[S186]',\n",
       " 'Water depth[S187]',\n",
       " 'Water depth[S188]',\n",
       " 'Water depth[S189]',\n",
       " 'Water depth[S190]']"
      ]
     },
     "execution_count": 9,
     "metadata": {},
     "output_type": "execute_result"
    }
   ],
   "source": [
    "keys = list(outcomes.keys())\n",
    "keys"
   ]
  },
  {
   "cell_type": "code",
   "execution_count": 10,
   "metadata": {},
   "outputs": [],
   "source": [
    "#Delete NAN's from crest level weir Lith in experiments\n",
    "del experiments['Crest level weir[Wei6]']\n",
    "experiments['Crest level weir[Weir6]'].fillna(8.5,inplace=True)"
   ]
  },
  {
   "cell_type": "markdown",
   "metadata": {},
   "source": [
    "Create DataFrame containing maximum water depths"
   ]
  },
  {
   "cell_type": "code",
   "execution_count": 37,
   "metadata": {},
   "outputs": [],
   "source": [
    "depth= keys[20:210]\n",
    "df_depth = pd.DataFrame([[51]]*len(outcomes['TIME']))   \n",
    "\n",
    "for m in range(len(depth)):\n",
    "    array2 = []\n",
    "    for n in range(len(outcomes['TIME'])): \n",
    "        array2.append(np.max(outcomes[depth[m]][n]))    \n",
    "    df_depth[depth[m]] = array2  "
   ]
  },
  {
   "cell_type": "code",
   "execution_count": 48,
   "metadata": {},
   "outputs": [],
   "source": [
    "#Add uncertainties to depth outcomes dataframe \n",
    "uncertain = experiments.keys().tolist()\n",
    "\n",
    "for i in range(len(uncertain)):\n",
    "    if experiments.keys()[i]==uncertain[i]:\n",
    "        a = experiments.iloc[:,i].tolist()\n",
    "        df_depth[uncertain[i]] = a"
   ]
  },
  {
   "cell_type": "code",
   "execution_count": 50,
   "metadata": {},
   "outputs": [],
   "source": [
    "#Save dataframe to excel \n",
    "df_depth.to_excel(r\"C:\\Users\\douwe\\OneDrive\\Documenten\\1.0 School\\8.0 Thesis\\5.0 Execution\\Maasmodel\\Results\\policy_depths2_max.xlsx\")"
   ]
  },
  {
   "cell_type": "markdown",
   "metadata": {},
   "source": [
    "Create DataFrame containing minimum water depths"
   ]
  },
  {
   "cell_type": "code",
   "execution_count": 11,
   "metadata": {},
   "outputs": [],
   "source": [
    "#Make dataframe with outcomes\n",
    "fwb = ['Percentage of full fresh water buffer[Weir1]',\n",
    " 'Percentage of full fresh water buffer[Weir2]',\n",
    " 'Percentage of full fresh water buffer[Weir3]',\n",
    " 'Percentage of full fresh water buffer[Weir4]',\n",
    " 'Percentage of full fresh water buffer[Weir5]',\n",
    " 'Percentage of full fresh water buffer[Weir6]','Days of free flow']\n",
    "\n",
    "\n",
    "df_index = pd.DataFrame([[51]]*len(outcomes['TIME']))      \n",
    "\n",
    "        \n",
    "for j in range(len(fwb)):\n",
    "    array = []\n",
    "    for i in range(len(outcomes['TIME'])): \n",
    "        array.append(outcomes[fwb[j]][i].argmin())\n",
    "    df_index[fwb[j]] = array\n"
   ]
  },
  {
   "cell_type": "code",
   "execution_count": 12,
   "metadata": {},
   "outputs": [],
   "source": [
    "#Make water depth dataframe with water depth outcomes\n",
    "depth= keys[20:210]\n",
    "\n",
    "df_depth = pd.DataFrame([[51]]*len(outcomes['TIME']))        \n",
    "        \n",
    "for j in range(len(depth)):\n",
    "    array = []\n",
    "    for i in range(len(outcomes['TIME'])): \n",
    "        if j<59:\n",
    "            array.append(outcomes[depth[j]][i][df_index.iloc[i,1]])\n",
    "        elif j>58 and j<71:\n",
    "            array.append(outcomes[depth[j]][i][df_index.iloc[i,2]])\n",
    "        elif j>70 and j<89:\n",
    "            array.append(outcomes[depth[j]][i][df_index.iloc[i,3]])\n",
    "        elif j>88 and j<138:\n",
    "            array.append(outcomes[depth[j]][i][df_index.iloc[i,4]])\n",
    "        elif j>137 and j<165:\n",
    "            array.append(outcomes[depth[j]][i][df_index.iloc[i,5]])\n",
    "        elif j>164 and j<=190:\n",
    "            array.append(outcomes[depth[j]][i][df_index.iloc[i,6]])\n",
    "    df_depth[depth[j]] = array\n",
    "\n"
   ]
  },
  {
   "cell_type": "code",
   "execution_count": null,
   "metadata": {},
   "outputs": [],
   "source": [
    "depth= keys[20:210]\n",
    "\n",
    "df_depth = pd.DataFrame([[51]]*len(outcomes['TIME']))        \n",
    "        \n",
    "for j in range(len(depth)):\n",
    "    array = []\n",
    "    for i in range(len(outcomes['TIME'])): \n",
    "        array.append(np.max(outcomes[depth[j]][i]))\n",
    "    df_depth[depth[j]] = array\n"
   ]
  },
  {
   "cell_type": "code",
   "execution_count": null,
   "metadata": {},
   "outputs": [],
   "source": [
    "df_depth"
   ]
  },
  {
   "cell_type": "code",
   "execution_count": 14,
   "metadata": {},
   "outputs": [],
   "source": [
    "\n",
    "#Add uncertainties to depth outcomes dataframe \n",
    "uncertain = experiments.keys().tolist()\n",
    "\n",
    "for i in range(len(uncertain)):\n",
    "    if experiments.keys()[i]==uncertain[i]:\n",
    "        a = experiments.iloc[:,i].tolist()\n",
    "        df_depth[uncertain[i]] = a\n",
    "        \n"
   ]
  },
  {
   "cell_type": "code",
   "execution_count": 16,
   "metadata": {},
   "outputs": [],
   "source": [
    "#Save dataframe to excel \n",
    "df_depth.to_excel(r\"C:\\Users\\douwe\\OneDrive\\Documenten\\1.0 School\\8.0 Thesis\\5.0 Execution\\Maasmodel\\Results\\policy_depths2_basedonfwb.xlsx\")"
   ]
  },
  {
   "cell_type": "code",
   "execution_count": 28,
   "metadata": {},
   "outputs": [],
   "source": [
    "\n",
    "#Make dataframe with outcomes\n",
    "fwb = ['Percentage of full fresh water buffer[Weir1]',\n",
    " 'Percentage of full fresh water buffer[Weir2]',\n",
    " 'Percentage of full fresh water buffer[Weir3]',\n",
    " 'Percentage of full fresh water buffer[Weir4]',\n",
    " 'Percentage of full fresh water buffer[Weir5]',\n",
    " 'Percentage of full fresh water buffer[Weir6]','Days of free flow']\n",
    "vel = keys[7:13]\n",
    "ship= keys[13:19]\n",
    "\n",
    "\n",
    "df_outcome = pd.DataFrame([[51]]*len(outcomes['TIME']))        \n",
    "        \n",
    "for j in range(len(fwb)):\n",
    "    array = []\n",
    "    for i in range(len(outcomes['TIME'])): \n",
    "        array.append(outcomes[fwb[j]][i][-1])\n",
    "    df_outcome[fwb[j]] = array\n",
    "\n",
    "for k in range(len(vel)):\n",
    "    array1 = []\n",
    "    for l in range(len(outcomes['TIME'])): \n",
    "        array1.append(np.mean(outcomes[vel[k]][l]))    \n",
    "    df_outcome[vel[k]] = array1\n",
    "\n",
    "for m in range(len(ship)):\n",
    "    array2 = []\n",
    "    for n in range(len(outcomes['TIME'])): \n",
    "        array2.append(np.max(outcomes[ship[m]][n]))    \n",
    "    df_outcome[ship[m]] = array2  \n",
    "\n",
    "del df_outcome[0]\n",
    "\n"
   ]
  },
  {
   "cell_type": "code",
   "execution_count": 29,
   "metadata": {},
   "outputs": [],
   "source": [
    "\n",
    "#Add uncertainties to outcomes dataframe \n",
    "uncertain = experiments.keys().tolist()\n",
    "\n",
    "for i in range(len(uncertain)):\n",
    "    if experiments.keys()[i]==uncertain[i]:\n",
    "        a = experiments.iloc[:,i].tolist()\n",
    "        df_outcome[uncertain[i]] = a\n",
    "        \n"
   ]
  },
  {
   "cell_type": "code",
   "execution_count": 30,
   "metadata": {},
   "outputs": [],
   "source": [
    "\n",
    "#Rename outcome columns\n",
    "df_outcome.rename(columns ={'Percentage of full fresh water buffer[Weir1]': 'Percentage of full fresh water buffer weir section Linne',\n",
    "                           'Percentage of full fresh water buffer[Weir2]': 'Percentage of full fresh water buffer weir section Roermond',\n",
    "                           'Percentage of full fresh water buffer[Weir3]': 'Percentage of full fresh water buffer weir section Belfeld',\n",
    "                           'Percentage of full fresh water buffer[Weir4]': 'Percentage of full fresh water buffer weir section Sambeek',\n",
    "                           'Percentage of full fresh water buffer[Weir5]': 'Percentage of full fresh water buffer weir section Grave',\n",
    "                           'Percentage of full fresh water buffer[Weir6]': 'Percentage of full fresh water buffer weir section Lith'}, inplace = True)\n",
    "                           \n"
   ]
  },
  {
   "cell_type": "code",
   "execution_count": 31,
   "metadata": {},
   "outputs": [],
   "source": [
    "Save dataframe to excel \n",
    "df_outcome.to_excel(r\"C:\\Users\\douwe\\OneDrive\\Documenten\\1.0 School\\8.0 Thesis\\5.0 Execution\\Maasmodel\\Results\\policy_dataframe.xlsx\")"
   ]
  },
  {
   "cell_type": "code",
   "execution_count": null,
   "metadata": {},
   "outputs": [],
   "source": []
  }
 ],
 "metadata": {
  "kernelspec": {
   "display_name": "Python 3",
   "language": "python",
   "name": "python3"
  },
  "language_info": {
   "codemirror_mode": {
    "name": "ipython",
    "version": 3
   },
   "file_extension": ".py",
   "mimetype": "text/x-python",
   "name": "python",
   "nbconvert_exporter": "python",
   "pygments_lexer": "ipython3",
   "version": "3.6.6"
  },
  "latex_envs": {
   "LaTeX_envs_menu_present": true,
   "autoclose": false,
   "autocomplete": true,
   "bibliofile": "biblio.bib",
   "cite_by": "apalike",
   "current_citInitial": 1,
   "eqLabelWithNumbers": true,
   "eqNumInitial": 1,
   "hotkeys": {
    "equation": "Ctrl-E",
    "itemize": "Ctrl-I"
   },
   "labels_anchors": false,
   "latex_user_defs": false,
   "report_style_numbering": false,
   "user_envs_cfg": false
  }
 },
 "nbformat": 4,
 "nbformat_minor": 2
}
