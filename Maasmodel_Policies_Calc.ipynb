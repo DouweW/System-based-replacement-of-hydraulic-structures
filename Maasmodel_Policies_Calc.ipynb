{
 "cells": [
  {
   "cell_type": "code",
   "execution_count": 1,
   "metadata": {},
   "outputs": [
    {
     "name": "stderr",
     "output_type": "stream",
     "text": [
      "C:\\Programs\\Anaconda3\\lib\\site-packages\\ema_workbench\\connectors\\__init__.py:27: ImportWarning: netlogo connector not available\n",
      "  warnings.warn(\"netlogo connector not available\", ImportWarning)\n",
      "C:\\Programs\\Anaconda3\\lib\\importlib\\_bootstrap.py:219: ImportWarning: can't resolve package from __spec__ or __package__, falling back on __name__ and __path__\n",
      "  return f(*args, **kwds)\n",
      "C:\\Programs\\Anaconda3\\lib\\importlib\\_bootstrap.py:219: ImportWarning: can't resolve package from __spec__ or __package__, falling back on __name__ and __path__\n",
      "  return f(*args, **kwds)\n",
      "C:\\Programs\\Anaconda3\\lib\\importlib\\_bootstrap.py:219: ImportWarning: can't resolve package from __spec__ or __package__, falling back on __name__ and __path__\n",
      "  return f(*args, **kwds)\n",
      "C:\\Programs\\Anaconda3\\lib\\site-packages\\sklearn\\ensemble\\weight_boosting.py:29: DeprecationWarning: numpy.core.umath_tests is an internal NumPy module and should not be imported. It will be removed in a future NumPy release.\n",
      "  from numpy.core.umath_tests import inner1d\n",
      "C:\\Programs\\Anaconda3\\lib\\importlib\\_bootstrap.py:219: ImportWarning: can't resolve package from __spec__ or __package__, falling back on __name__ and __path__\n",
      "  return f(*args, **kwds)\n"
     ]
    }
   ],
   "source": [
    "from __future__ import (division, unicode_literals, absolute_import,\n",
    "                        print_function)\n",
    "\n",
    "from ema_workbench import (Model, RealParameter, Constant, CategoricalParameter, \n",
    "                           TimeSeriesOutcome, ScalarOutcome, ema_logging, perform_experiments, \n",
    "                           MultiprocessingEvaluator, Policy)\n",
    "from ema_workbench.connectors.vensim import (VensimModel , VensimModelStructureInterface, set_value)\n",
    "from ema_workbench.em_framework.samplers import sample_levers\n",
    "from ema_workbench.util.utilities import save_results\n",
    "from ema_workbench import load_results\n",
    "from ema_workbench.analysis.pairs_plotting import (pairs_lines, pairs_scatter)\n",
    "from ema_workbench.analysis import clusterer, plotting, Density, prim\n",
    "from ema_workbench.analysis.plotting import lines, envelopes, kde_over_time, multiple_densities\n",
    "\n",
    "\n",
    "\n",
    "import timeit\n",
    "import matplotlib.pyplot as plt\n",
    "import numpy as np\n",
    "import seaborn as sns\n",
    "import pandas as pd\n",
    "import itertools\n",
    "\n",
    "from ema_workbench.analysis.plotting import lines"
   ]
  },
  {
   "cell_type": "code",
   "execution_count": 2,
   "metadata": {},
   "outputs": [],
   "source": [
    "#from IPython.core.display import display, HTML\n",
    "#display(HTML(\"<style>.container { width:70% !important; }</style>\"))"
   ]
  },
  {
   "cell_type": "markdown",
   "metadata": {},
   "source": [
    "# Select vensim file"
   ]
  },
  {
   "cell_type": "code",
   "execution_count": 3,
   "metadata": {},
   "outputs": [],
   "source": [
    "wd = r'./VENSIM' # Directory of the vensim model\n",
    "model_file=r'Maasmodel_v075.vpmx' # Name of the vensim model"
   ]
  },
  {
   "cell_type": "markdown",
   "metadata": {},
   "source": [
    "# General manual input"
   ]
  },
  {
   "cell_type": "code",
   "execution_count": 4,
   "metadata": {},
   "outputs": [],
   "source": [
    "#FILL IN THIS CELL\n",
    "#WEIR\n",
    "Crest_level_weir1 = 8.35\n",
    "Crest_level_weir2 = 7.15\n",
    "Crest_level_weir3 = 6.9\n",
    "Crest_level_weir4 = 7.2\n",
    "Crest_level_weir5 = [8.4, 8.6]\n",
    "Crest_level_weir6 = 10.9\n",
    "Location_weir1    = 57500\n",
    "Location_weir2    = 69500\n",
    "Location_weir3    = 87500\n",
    "Location_weir4    = 135500\n",
    "Location_weir5    = [163500, 150500]\n",
    "Location_weir6    = 189500\n",
    "Leakage_low_weir1    = 1.2e6\n",
    "Leakage_low_weir2    = 1e6\n",
    "Leakage_low_weir3    = 1e6\n",
    "Leakage_low_weir4    = 3e6\n",
    "Leakage_low_weir5    = 3e6\n",
    "Leakage_low_weir6    = 2e6\n",
    "Leakage_up_weir1     = 6e6\n",
    "Leakage_up_weir2     = 5e6\n",
    "Leakage_up_weir3     = 5e6\n",
    "Leakage_up_weir4     = 9e6\n",
    "Leakage_up_weir5     = 9e6\n",
    "Leakage_up_weir6     = 8e6\n",
    "\n",
    "#LOCK\n",
    "Intensity_commercial_lock1 = 44\n",
    "Intensity_commercial_lock2 = 62\n",
    "Intensity_commercial_lock3 = 439\n",
    "Intensity_commercial_lock4 = 547\n",
    "Intensity_commercial_lock5 = 289\n",
    "Intensity_commercial_lock6 = 334\n",
    "Intensity_leisure_lock1 = 643\n",
    "Intensity_leisure_lock2 = 518\n",
    "Intensity_leisure_lock3 = 458\n",
    "Intensity_leisure_lock4 = 498\n",
    "Intensity_leisure_lock5 = 511\n",
    "Intensity_leisure_lock6 = 807"
   ]
  },
  {
   "cell_type": "markdown",
   "metadata": {},
   "source": [
    "Make arrays to feed lookups"
   ]
  },
  {
   "cell_type": "code",
   "execution_count": 5,
   "metadata": {},
   "outputs": [],
   "source": [
    "#NAME CLIMATE SCENARIOS\n",
    "CS1 = 'Climate scenario GL'\n",
    "CS2 = 'Climate scenario WH'\n",
    "\n",
    "#SAVE FIGURE\n",
    "save = False\n",
    "fig_size = (10,7)\n",
    "dpi = 300\n",
    "%matplotlib inline\n",
    "\n",
    "#Starting year\n",
    "start_year = 2020\n",
    "end_year   = 2100\n",
    "\n",
    "\n",
    "#100 years\n",
    "years = np.linspace(start_year,end_year,81)\n",
    "\n",
    "#SECONDS TO Week\n",
    "SEC_WEEK = 60*60*24*7 \n",
    "\n",
    "#Different draught durations in weeks\n",
    "Draught_durations = [4,6,8,10,12,14,16] #Duur van de droogte periode variërend van 4 tot 16 weken\n",
    "\n",
    "#Different draught intensities in m3/s\n",
    "Draught_intensities = [20,25,30,35,40,45,1000] #Maximale afvoer in periodes van droogte, 1000 staat voor geen droogte periode \n",
    "\n",
    "#Distance from inflow\n",
    "distance_inflow = np.linspace(500, 189500, 190)\n",
    "\n",
    "#100 year discharge series\n",
    "year_100_dischargeseries = list(range(1911,2015))"
   ]
  },
  {
   "cell_type": "code",
   "execution_count": null,
   "metadata": {},
   "outputs": [],
   "source": []
  },
  {
   "cell_type": "markdown",
   "metadata": {},
   "source": [
    "# Model parameters"
   ]
  },
  {
   "cell_type": "code",
   "execution_count": 6,
   "metadata": {},
   "outputs": [],
   "source": [
    "# turn on logging\n",
    "ema_logging.log_to_stderr(ema_logging.INFO)\n",
    "\n",
    "# instantiate a model\n",
    "vensimModel = VensimModel('MaasModel', wd=wd, model_file=model_file)\n",
    "\n",
    "# (X) External factors and States of the World\n",
    "vensimModel.uncertainties = [CategoricalParameter('Climate scenario', [1, 2]),\n",
    "                             CategoricalParameter('Socio Economic scenario', [1, 2]),\n",
    "                            \n",
    "#Uncertain model variables  \n",
    "                             CategoricalParameter('Draught period intensity', Draught_intensities ),\n",
    "                             CategoricalParameter('Draught period length', Draught_durations),\n",
    "                             CategoricalParameter('Simulated year', years),\n",
    "                             CategoricalParameter('Water loss one levelling cycle', [6000, 7000,8000,9000,10000,11000,12000]),\n",
    "                             CategoricalParameter('Extra shipping intensity Diked Meuse', [0.2,0.25,0.3,0.35,0.4,0.45,0.5]),\n",
    "                             CategoricalParameter('Percentage of ships that are class IV', [0.2,0.22,0.24,0.26,0.28,0.3]),\n",
    "                             CategoricalParameter('Percentage of ships that are class V',[0.4,0.42,0.44,0.46,0.48,0.5]),\n",
    "                             RealParameter('Percentage transport via water', 0.1, 0.3),\n",
    "                             RealParameter('Leakage weir and lock[Weir1]', Leakage_low_weir1, Leakage_up_weir1),\n",
    "                             RealParameter('Leakage weir and lock[Weir2]', Leakage_low_weir2, Leakage_up_weir2),\n",
    "                             RealParameter('Leakage weir and lock[Weir3]', Leakage_low_weir3, Leakage_up_weir3),\n",
    "                             RealParameter('Leakage weir and lock[Weir4]', Leakage_low_weir4, Leakage_up_weir4),\n",
    "                             RealParameter('Leakage weir and lock[Weir5]', Leakage_low_weir5, Leakage_up_weir5),\n",
    "                             RealParameter('Leakage weir and lock[Weir6]', Leakage_low_weir6, Leakage_up_weir6),\n",
    "                             CategoricalParameter('Year from discharge series', year_100_dischargeseries)\n",
    "                                                          ]\n",
    "                                                  \n",
    "\n",
    "# (L) Policy levers and/or design Alternatives\n",
    "vensimModel.levers = [\n",
    "                      CategoricalParameter('Crest level weir[Weir5]', [8.4, 8.6]),\n",
    "                      CategoricalParameter('Crest level weir[Weir6]', [8.5, 8.7]),\n",
    "                      CategoricalParameter('Crest level summer', [0,0.2]),\n",
    "                      CategoricalParameter('Weir location[Weir5]', [163500, 150500]),\n",
    "                      CategoricalParameter('Pump switch', [0 , 1]),\n",
    "                      CategoricalParameter('Levelling restrictions switch', [0 , 1])\n",
    "                        ]\n",
    "\n",
    "\n",
    "# (R) Other system parameters\n",
    "vensimModel.constants = [#Water flow\n",
    "                         Constant('Crest level weir[Weir1]', 8.35),\n",
    "                         Constant('Crest level weir[Weir2]', 7.15),\n",
    "                         Constant('Crest level weir[Weir3]', 6.9),\n",
    "                         Constant('Crest level weir[Weir4]', 7.2),                   \n",
    "                         Constant('Closing retaining lock Limmel',  1200  ),\n",
    "                         Constant('Weir location[Weir1]', 57500),\n",
    "                         Constant('Weir location[Weir2]', 69500),\n",
    "                         Constant('Weir location[Weir3]', 87500),\n",
    "                         Constant('Weir location[Weir4]', 136500),\n",
    "                         Constant('Weir location[Weir6]', 189500),\n",
    "                         Constant('Discharge to turn on pumps Maasbracht',  50  ),\n",
    "                         Constant('Dryest time of the year', 26),\n",
    "                         Constant('Grid cell length', 1000),\n",
    "                         Constant('Initial equilibrium depth', 3.5),\n",
    "                         Constant('Low discharge', 50*SEC_WEEK),\n",
    "                         Constant('Maximum critical depth', 1.5),\n",
    "                         Constant('Maximum water depth', 0.2),\n",
    "                         Constant('Minimum width', 1),\n",
    "                         Constant('Reference year', 2014),\n",
    "                         Constant('Water loss due to levelling at Maasbracht', 15*SEC_WEEK),\n",
    "                         Constant('Water loss Weurt', 0.8*SEC_WEEK),\n",
    "    \n",
    "                        \n",
    "\n",
    "                         #Shipping flow\n",
    "                         Constant('Commercial shipping growth WLOL', -0.00041675 ),\n",
    "                         Constant('Commercial shipping growth WLOH', 0.000833  ),\n",
    "                         Constant('Draught ship of CEMT class III', 2.7),\n",
    "                         Constant('Draught ship of CEMT class IV', 3),\n",
    "                         Constant('Draught ship of CEMT class V', 3.5),\n",
    "                         Constant('Intensity commercial shipping reference year[Weir1]', Intensity_commercial_lock1 ),\n",
    "                         Constant('Intensity commercial shipping reference year[Weir2]', Intensity_commercial_lock2 ),\n",
    "                         Constant('Intensity commercial shipping reference year[Weir3]', Intensity_commercial_lock3 ),\n",
    "                         Constant('Intensity commercial shipping reference year[Weir4]', Intensity_commercial_lock4 ),\n",
    "                         Constant('Intensity commercial shipping reference year[Weir5]', Intensity_commercial_lock5 ),\n",
    "                         Constant('Intensity commercial shipping reference year[Weir6]', Intensity_commercial_lock6 ),\n",
    "                         Constant('Intensity leisure shipping reference year[Weir1]', Intensity_leisure_lock1),\n",
    "                         Constant('Intensity leisure shipping reference year[Weir2]', Intensity_leisure_lock2),\n",
    "                         Constant('Intensity leisure shipping reference year[Weir3]', Intensity_leisure_lock3),\n",
    "                         Constant('Intensity leisure shipping reference year[Weir4]', Intensity_leisure_lock4),\n",
    "                         Constant('Intensity leisure shipping reference year[Weir5]', Intensity_leisure_lock5),\n",
    "                         Constant('Intensity leisure shipping reference year[Weir6]', Intensity_leisure_lock6),\n",
    "                         Constant('Leisure shipping growth WLOL', -0.000275 ),\n",
    "                         Constant('Leisure shipping growth WLOH', -0.0015 ),\n",
    "                         Constant('Large lock factor', 1.75),\n",
    "                         Constant('Middle sized lock factor', 1.4),\n",
    "                         Constant('Small lock factor', 1),\n",
    "                         Constant('Max number of ships in small chamber', 4),\n",
    "                         Constant('Minimum percentage of ships sailing over the river Meuse', 0.1),\n",
    "                         Constant('Percentage transport via water reference year', 0.2),\n",
    "                         Constant('Sill height in front of lock[Weir1]', 4.1),\n",
    "                         Constant('Sill height in front of lock[Weir2]', 2.2),\n",
    "                         Constant('Sill height in front of lock[Weir3]', 1.25),\n",
    "                         Constant('Sill height in front of lock[Weir4]', 0.1),\n",
    "                         Constant('Sill height in front of lock[Weir5]', 1.5),\n",
    "                         Constant('Sill height in front of lock[Weir6]', 3),\n",
    "                         Constant('Time sailing in to lock', 10),\n",
    "                         Constant('Time sailing out of lock', 10),\n",
    "                         Constant('Time securing the ship', 5),\n",
    "    \n",
    "    \n",
    "                         #Fresh water buffer\n",
    "                         Constant('Original crest height[Weir1]', 8.35),\n",
    "                         Constant('Original crest height[Weir1]', 7.15),                         \n",
    "                         Constant('Original crest height[Weir1]', 6.9),\n",
    "                         Constant('Original crest height[Weir1]', 7.2),\n",
    "                         Constant('Original crest height[Weir1]', 8.4),\n",
    "                         Constant('Original crest height[Weir1]', 8.5),\n",
    "                         \n",
    "                         \n",
    "                         \n",
    "                         \n",
    "                         Constant('Number of small chambers[Weir1]', 0),\n",
    "                         Constant('Number of small chambers[Weir2]', 0),\n",
    "                         Constant('Number of small chambers[Weir3]', 2),\n",
    "                         Constant('Number of small chambers[Weir4]', 2),\n",
    "                         Constant('Number of small chambers[Weir5]', 1),\n",
    "                         Constant('Number of small chambers[Weir6]', 1),\n",
    "                         Constant('Number of middle sized chambers[Weir1]', 0),\n",
    "                         Constant('Number of middle sized chambers[Weir2]', 0),  \n",
    "                         Constant('Number of middle sized chambers[Weir3]', 0),  \n",
    "                         Constant('Number of middle sized chambers[Weir4]', 0),  \n",
    "                         Constant('Number of middle sized chambers[Weir5]', 0),  \n",
    "                         Constant('Number of middle sized chambers[Weir6]', 1),                       \n",
    "                         Constant('Number of large chambers[Weir1]', 1),                      \n",
    "                         Constant('Number of large chambers[Weir2]', 1),                      \n",
    "                         Constant('Number of large chambers[Weir3]', 1),                      \n",
    "                         Constant('Number of large chambers[Weir4]', 1),                       \n",
    "                         Constant('Number of large chambers[Weir5]', 0),                     \n",
    "                         Constant('Number of large chambers[Weir6]', 0)\n",
    "                         ]\n",
    "\n",
    "                       \n",
    "\n",
    "                        \n",
    "    \n",
    "    \n",
    "    \n",
    "# (M) Performance Metrics and Outcomes of Interest\n",
    "vensimModel.outcomes = [TimeSeriesOutcome('Percentage of full fresh water buffer[Weir1]'),\n",
    "                        TimeSeriesOutcome('Percentage of full fresh water buffer[Weir2]'),\n",
    "                        TimeSeriesOutcome('Percentage of full fresh water buffer[Weir3]'),\n",
    "                        TimeSeriesOutcome('Percentage of full fresh water buffer[Weir4]'),\n",
    "                        TimeSeriesOutcome('Percentage of full fresh water buffer[Weir5]'),\n",
    "                        TimeSeriesOutcome('Percentage of full fresh water buffer[Weir6]'),\n",
    "                        TimeSeriesOutcome('Average velocity through weir section[Weir1]'),\n",
    "                        TimeSeriesOutcome('Average velocity through weir section[Weir2]'),\n",
    "                        TimeSeriesOutcome('Average velocity through weir section[Weir3]'),\n",
    "                        TimeSeriesOutcome('Average velocity through weir section[Weir4]'),\n",
    "                        TimeSeriesOutcome('Average velocity through weir section[Weir5]'),\n",
    "                        TimeSeriesOutcome('Average velocity through weir section[Weir6]'),\n",
    "                        TimeSeriesOutcome('\"I/C value at lock\"[Weir1]'),\n",
    "                        TimeSeriesOutcome('\"I/C value at lock\"[Weir2]'),\n",
    "                        TimeSeriesOutcome('\"I/C value at lock\"[Weir3]'),\n",
    "                        TimeSeriesOutcome('\"I/C value at lock\"[Weir4]'),\n",
    "                        TimeSeriesOutcome('\"I/C value at lock\"[Weir5]'),\n",
    "                        TimeSeriesOutcome('\"I/C value at lock\"[Weir6]'),\n",
    "                        TimeSeriesOutcome('Days of free flow')]\n",
    "                        \n"
   ]
  },
  {
   "cell_type": "code",
   "execution_count": null,
   "metadata": {},
   "outputs": [],
   "source": []
  },
  {
   "cell_type": "markdown",
   "metadata": {},
   "source": [
    "# Perform the experiments and save the results"
   ]
  },
  {
   "cell_type": "code",
   "execution_count": 7,
   "metadata": {},
   "outputs": [],
   "source": [
    "policies = [Policy('No policy',**{'Crest level summer': 0, 'Crest level weir[Weir5]': 8.4, 'Levelling restrictions switch': 0, 'Pump switch': 0, 'Weir location[Weir5]': 163500, 'Crest level weir[Weir6]':8.5}),\n",
    "Policy('Crest Grave raised',**{'Crest level summer': 0, 'Crest level weir[Weir5]': 8.6, 'Levelling restrictions switch': 0, 'Pump switch': 0, 'Weir location[Weir5]': 163500, 'Crest level weir[Weir6]':8.5}),\n",
    "Policy('Dynamic crest level',**{'Crest level summer': 0.2, 'Crest level weir[Weir5]': 8.4, 'Levelling restrictions switch': 0, 'Pump switch': 0, 'Weir location[Weir5]': 163500, 'Crest level weir[Weir6]':8.5}),\n",
    "Policy('Pumps on',**{'Crest level summer': 0, 'Crest level weir[Weir5]': 8.4, 'Levelling restrictions switch': 0, 'Pump switch': 1, 'Weir location[Weir5]': 163500, 'Crest level weir[Weir6]':8.5}),\n",
    "Policy('Levelling restrictions',**{'Crest level summer': 0, 'Crest level weir[Weir5]': 8.4, 'Levelling restrictions switch': 1, 'Pump switch': 0, 'Weir location[Weir5]': 163500, 'Crest level weir[Weir6]':8.5}),\n",
    "Policy('Relocate weir',**{'Crest level summer': 0, 'Crest level weir[Weir5]': 8.4, 'Levelling restrictions switch': 0, 'Pump switch': 0, 'Weir location[Weir5]': 150500, 'Crest level weir[Weir6]':8.5}),\n",
    "Policy('Relocate weir and raise crest level Lith',**{'Crest level summer': 0, 'Crest level weir[Weir5]': 8.4, 'Levelling restrictions switch': 0, 'Pump switch': 0, 'Weir location[Weir5]': 150500, 'Crest level weir[Weir6]':8.7}),\n",
    "Policy('Crest level raised and pumps on',**{'Crest level summer': 0, 'Crest level weir[Weir5]': 8.6, 'Levelling restrictions switch': 0, 'Pump switch': 1, 'Weir location[Weir5]': 163500, 'Crest level weir[Weir6]':8.5}),\n",
    "Policy('Dynamic crest level and pumps on',**{'Crest level summer': 0.2, 'Crest level weir[Weir5]': 8.4, 'Levelling restrictions switch': 0, 'Pump switch': 1, 'Weir location[Weir6]': 163500, 'Crest level weir[Weir6]':8.5}),\n",
    "Policy('Crest level raised and levelling restrictions',**{'Crest level summer': 0, 'Crest level weir[Weir5]': 8.6, 'Levelling restrictions switch': 1, 'Pump switch': 0, 'Weir location[Weir5]': 163500, 'Crest level weir[Weir6]':8.5}),\n",
    "Policy('Dynamic crest level and levelling restrictions',**{'Crest level summer': 0.2, 'Crest level weir[Weir5]': 8.4, 'Levelling restrictions switch': 1, 'Pump switch': 0, 'Weir location[Weir5]': 163500, 'Crest level weir[Weir6]':8.5}),\n",
    "Policy('Relocate weir and pumps on',**{'Crest level summer': 0, 'Crest level weir[Weir5]': 8.4, 'Levelling restrictions switch': 0, 'Pump switch': 1, 'Weir location[Weir5]': 150500, 'Crest level weir[Weir6]':8.5}),\n",
    "Policy('Relocate weir and levelling restrictions',**{'Crest level summer': 0, 'Crest level weir[Weir5]': 8.4, 'Levelling restrictions switch': 1, 'Pump switch': 0, 'Weir location[Weir5]': 150500, 'Crest level weir[Weir6]':8.5})\n",
    "           ]\n"
   ]
  },
  {
   "cell_type": "code",
   "execution_count": 8,
   "metadata": {},
   "outputs": [
    {
     "name": "stdout",
     "output_type": "stream",
     "text": [
      "Simulating the model with 8000 scenarios and 13 design decisions\n"
     ]
    }
   ],
   "source": [
    "nr_scenarios = 8000\n",
    "nr_policies = len(policies)\n",
    "nr_experiments = nr_scenarios*nr_policies\n",
    "\n",
    "\n",
    "print('Simulating the model with', nr_scenarios, 'scenarios and', nr_policies, 'design decisions')"
   ]
  },
  {
   "cell_type": "code",
   "execution_count": 9,
   "metadata": {
    "scrolled": true
   },
   "outputs": [
    {
     "data": {
      "text/plain": [
       "'\\nstart_time = timeit.default_timer()\\n\\n#results = perform_experiments(vensimModel, nr_scenarios, nr_policies)\\nwith MultiprocessingEvaluator(vensimModel) as evaluator:\\n    results = evaluator.perform_experiments(scenarios=nr_scenarios, policies=policies)\\n\\n\\nelapsed = timeit.default_timer() - start_time\\nprint(\"Total time in minutes:\", elapsed/60, \"-- Time per run in seconds:\", \\n      elapsed/(nr_scenarios * max(len(policies),1)) ) \\n'"
      ]
     },
     "execution_count": 9,
     "metadata": {},
     "output_type": "execute_result"
    }
   ],
   "source": [
    "\"\"\"\n",
    "start_time = timeit.default_timer()\n",
    "\n",
    "#results = perform_experiments(vensimModel, nr_scenarios, nr_policies)\n",
    "with MultiprocessingEvaluator(vensimModel) as evaluator:\n",
    "    results = evaluator.perform_experiments(scenarios=nr_scenarios, policies=policies)\n",
    "\n",
    "\n",
    "elapsed = timeit.default_timer() - start_time\n",
    "print(\"Total time in minutes:\", elapsed/60, \"-- Time per run in seconds:\", \n",
    "      elapsed/(nr_scenarios * max(len(policies),1)) ) \n",
    "\"\"\"      \n"
   ]
  },
  {
   "cell_type": "markdown",
   "metadata": {},
   "source": [
    "# Save results"
   ]
  },
  {
   "cell_type": "code",
   "execution_count": 10,
   "metadata": {},
   "outputs": [],
   "source": [
    "#experiments, outcomes = results\n",
    "#save_results(results, r'C:\\Users\\douwe\\OneDrive\\Documenten\\1.0 School\\8.0 Thesis\\5.0 Execution\\Maasmodel\\Results\\Policies_256000a.tar')"
   ]
  },
  {
   "cell_type": "code",
   "execution_count": null,
   "metadata": {},
   "outputs": [],
   "source": []
  }
 ],
 "metadata": {
  "kernelspec": {
   "display_name": "Python 3",
   "language": "python",
   "name": "python3"
  },
  "language_info": {
   "codemirror_mode": {
    "name": "ipython",
    "version": 3
   },
   "file_extension": ".py",
   "mimetype": "text/x-python",
   "name": "python",
   "nbconvert_exporter": "python",
   "pygments_lexer": "ipython3",
   "version": "3.6.6"
  },
  "latex_envs": {
   "LaTeX_envs_menu_present": true,
   "autoclose": false,
   "autocomplete": true,
   "bibliofile": "biblio.bib",
   "cite_by": "apalike",
   "current_citInitial": 1,
   "eqLabelWithNumbers": true,
   "eqNumInitial": 1,
   "hotkeys": {
    "equation": "Ctrl-E",
    "itemize": "Ctrl-I"
   },
   "labels_anchors": false,
   "latex_user_defs": false,
   "report_style_numbering": false,
   "user_envs_cfg": false
  }
 },
 "nbformat": 4,
 "nbformat_minor": 2
}
