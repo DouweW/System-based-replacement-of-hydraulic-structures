{
 "cells": [
  {
   "cell_type": "code",
   "execution_count": 1,
   "metadata": {},
   "outputs": [
    {
     "name": "stderr",
     "output_type": "stream",
     "text": [
      "C:\\Programs\\Anaconda3\\lib\\site-packages\\ema_workbench\\connectors\\__init__.py:27: ImportWarning: netlogo connector not available\n",
      "  warnings.warn(\"netlogo connector not available\", ImportWarning)\n",
      "C:\\Programs\\Anaconda3\\lib\\importlib\\_bootstrap.py:219: ImportWarning: can't resolve package from __spec__ or __package__, falling back on __name__ and __path__\n",
      "  return f(*args, **kwds)\n",
      "C:\\Programs\\Anaconda3\\lib\\importlib\\_bootstrap.py:219: ImportWarning: can't resolve package from __spec__ or __package__, falling back on __name__ and __path__\n",
      "  return f(*args, **kwds)\n",
      "C:\\Programs\\Anaconda3\\lib\\importlib\\_bootstrap.py:219: ImportWarning: can't resolve package from __spec__ or __package__, falling back on __name__ and __path__\n",
      "  return f(*args, **kwds)\n",
      "C:\\Programs\\Anaconda3\\lib\\site-packages\\sklearn\\ensemble\\weight_boosting.py:29: DeprecationWarning: numpy.core.umath_tests is an internal NumPy module and should not be imported. It will be removed in a future NumPy release.\n",
      "  from numpy.core.umath_tests import inner1d\n",
      "C:\\Programs\\Anaconda3\\lib\\importlib\\_bootstrap.py:219: ImportWarning: can't resolve package from __spec__ or __package__, falling back on __name__ and __path__\n",
      "  return f(*args, **kwds)\n"
     ]
    }
   ],
   "source": [
    "from __future__ import (division, unicode_literals, absolute_import,\n",
    "                        print_function)\n",
    "\n",
    "from ema_workbench import (Model, RealParameter, Constant, CategoricalParameter, \n",
    "                           TimeSeriesOutcome, ScalarOutcome, ema_logging, perform_experiments, \n",
    "                           MultiprocessingEvaluator, Policy)\n",
    "from ema_workbench.connectors.vensim import (VensimModel , VensimModelStructureInterface, set_value)\n",
    "from ema_workbench.em_framework.samplers import sample_levers\n",
    "from ema_workbench.util.utilities import save_results\n",
    "from ema_workbench import load_results\n",
    "from ema_workbench.analysis import pairs_plotting\n",
    "from ema_workbench.analysis.pairs_plotting import (pairs_lines, pairs_scatter)\n",
    "from ema_workbench.analysis import clusterer, plotting, Density, prim\n",
    "from ema_workbench.analysis.plotting import lines, envelopes, kde_over_time, multiple_densities\n",
    "\n",
    "\n",
    "\n",
    "import timeit\n",
    "import matplotlib.pyplot as plt\n",
    "import numpy as np\n",
    "import seaborn as sns\n",
    "import pandas as pd\n",
    "\n",
    "from ema_workbench.analysis.plotting import lines"
   ]
  },
  {
   "cell_type": "markdown",
   "metadata": {},
   "source": [
    "# Select vensim file"
   ]
  },
  {
   "cell_type": "code",
   "execution_count": 2,
   "metadata": {},
   "outputs": [],
   "source": [
    "wd = r'./VENSIM' # Directory of the vensim model\n",
    "model_file=r'Maasmodel_v075.vpmx' # Name of the vensim model"
   ]
  },
  {
   "cell_type": "markdown",
   "metadata": {},
   "source": [
    "# General manual input"
   ]
  },
  {
   "cell_type": "code",
   "execution_count": 3,
   "metadata": {},
   "outputs": [],
   "source": [
    "#FILL IN THIS CELL\n",
    "#WEIR\n",
    "Crest_level_weir1 = 8.35\n",
    "Crest_level_weir2 = 7.15\n",
    "Crest_level_weir3 = 6.9\n",
    "Crest_level_weir4 = 7.2\n",
    "Crest_level_weir5 = 8.4\n",
    "Crest_level_weir6 = 10.9\n",
    "Location_weir1    = 57500\n",
    "Location_weir2    = 69500\n",
    "Location_weir3    = 87500\n",
    "Location_weir4    = 135500\n",
    "Location_weir5    = 163500\n",
    "Location_weir6    = 189500\n",
    "Leakage_low_weir1    = 1.2e6\n",
    "Leakage_low_weir2    = 1e6\n",
    "Leakage_low_weir3    = 1e6\n",
    "Leakage_low_weir4    = 3e6\n",
    "Leakage_low_weir5    = 3e6\n",
    "Leakage_low_weir6    = 2e6\n",
    "Leakage_up_weir1     = 6e6\n",
    "Leakage_up_weir2     = 5e6\n",
    "Leakage_up_weir3     = 5e6\n",
    "Leakage_up_weir4     = 9e6\n",
    "Leakage_up_weir5     = 9e6\n",
    "Leakage_up_weir6     = 8e6\n",
    "\n",
    "#LOCK\n",
    "Intensity_commercial_lock1 = 44\n",
    "Intensity_commercial_lock2 = 62\n",
    "Intensity_commercial_lock3 = 439\n",
    "Intensity_commercial_lock4 = 547\n",
    "Intensity_commercial_lock5 = 289\n",
    "Intensity_commercial_lock6 = 334\n",
    "Intensity_leisure_lock1 = 643\n",
    "Intensity_leisure_lock2 = 518\n",
    "Intensity_leisure_lock3 = 458\n",
    "Intensity_leisure_lock4 = 498\n",
    "Intensity_leisure_lock5 = 511\n",
    "Intensity_leisure_lock6 = 807"
   ]
  },
  {
   "cell_type": "code",
   "execution_count": 4,
   "metadata": {},
   "outputs": [],
   "source": [
    "#NAME CLIMATE SCENARIOS\n",
    "CS1 = 'Climate scenario GL'\n",
    "CS2 = 'Climate scenario WH'\n",
    "\n",
    "#SAVE FIGURE\n",
    "save = False\n",
    "fig_size = (10,7)\n",
    "dpi = 300\n",
    "%matplotlib inline\n",
    "\n",
    "#Starting year\n",
    "start_year = 2020\n",
    "end_year   = 2100\n",
    "\n",
    "\n",
    "#100 years\n",
    "years = np.linspace(start_year,end_year,81)\n",
    "\n",
    "#SECONDS TO Week\n",
    "SEC_WEEK = 60*60*24*7 \n",
    "\n",
    "#Different draught durations in weeks\n",
    "Draught_durations = [4,6,8,10,12,14,16] #Duur van de droogte periode variërend van 4 tot 16 weken\n",
    "\n",
    "#Different draught intensities in m3/s\n",
    "Draught_intensities = [20,25,30,35,40,45,1000] #Maximale afvoer in periodes van droogte, 1000 staat voor geen droogte periode \n",
    "\n",
    "#Distance from inflow\n",
    "distance_inflow = np.linspace(500, 189500, 190)\n",
    "\n",
    "#100 year discharge series\n",
    "year_100_dischargeseries = list(range(1911,2015))"
   ]
  },
  {
   "cell_type": "markdown",
   "metadata": {},
   "source": [
    "# Model parameters"
   ]
  },
  {
   "cell_type": "code",
   "execution_count": 5,
   "metadata": {},
   "outputs": [],
   "source": [
    "# turn on logging\n",
    "ema_logging.log_to_stderr(ema_logging.INFO)\n",
    "\n",
    "# instantiate a model\n",
    "vensimModel = VensimModel('MeuseModel', wd=wd, model_file=model_file)\n"
   ]
  },
  {
   "cell_type": "code",
   "execution_count": null,
   "metadata": {},
   "outputs": [],
   "source": []
  },
  {
   "cell_type": "markdown",
   "metadata": {},
   "source": [
    "# Experiment info and load the results"
   ]
  },
  {
   "cell_type": "code",
   "execution_count": 6,
   "metadata": {},
   "outputs": [
    {
     "name": "stdout",
     "output_type": "stream",
     "text": [
      "Simulating the model with 8 scenarios and 0 design decisions\n"
     ]
    }
   ],
   "source": [
    "nr_scenarios = 8\n",
    "nr_policies = 0    \n",
    "\n",
    "policies = sample_levers([vensimModel], nr_policies)\n",
    "policies = [policy for policy in policies]\n",
    "\n",
    "print('Simulating the model with', nr_scenarios, 'scenarios and', nr_policies, 'design decisions')\n"
   ]
  },
  {
   "cell_type": "markdown",
   "metadata": {},
   "source": [
    "Load results"
   ]
  },
  {
   "cell_type": "code",
   "execution_count": 7,
   "metadata": {},
   "outputs": [
    {
     "name": "stderr",
     "output_type": "stream",
     "text": [
      "[MainProcess/INFO] results loaded succesfully from C:\\Users\\douwe\\OneDrive\\Documenten\\1.0 School\\8.0 Thesis\\5.0 Execution\\Maasmodel\\Results\\BaseEnsemble_8000c.tar\n"
     ]
    }
   ],
   "source": [
    "data = r'C:\\Users\\douwe\\OneDrive\\Documenten\\1.0 School\\8.0 Thesis\\5.0 Execution\\Maasmodel\\Results\\BaseEnsemble_8000c.tar'\n",
    "results = load_results(data)\n",
    "experiments, outcomes = results"
   ]
  },
  {
   "cell_type": "markdown",
   "metadata": {},
   "source": [
    "# Data Postprocessing"
   ]
  },
  {
   "cell_type": "code",
   "execution_count": 8,
   "metadata": {},
   "outputs": [
    {
     "data": {
      "text/plain": [
       "['TIME',\n",
       " 'Percentage of full fresh water buffer[Weir1]',\n",
       " 'Percentage of full fresh water buffer[Weir2]',\n",
       " 'Percentage of full fresh water buffer[Weir3]',\n",
       " 'Percentage of full fresh water buffer[Weir4]',\n",
       " 'Percentage of full fresh water buffer[Weir5]',\n",
       " 'Percentage of full fresh water buffer[Weir6]',\n",
       " 'Average velocity through weir section[Weir1]',\n",
       " 'Average velocity through weir section[Weir2]',\n",
       " 'Average velocity through weir section[Weir3]',\n",
       " 'Average velocity through weir section[Weir4]',\n",
       " 'Average velocity through weir section[Weir5]',\n",
       " 'Average velocity through weir section[Weir6]',\n",
       " '\"I/C value at lock\"[Weir1]',\n",
       " '\"I/C value at lock\"[Weir2]',\n",
       " '\"I/C value at lock\"[Weir3]',\n",
       " '\"I/C value at lock\"[Weir4]',\n",
       " '\"I/C value at lock\"[Weir5]',\n",
       " '\"I/C value at lock\"[Weir6]',\n",
       " 'Days of free flow']"
      ]
     },
     "execution_count": 8,
     "metadata": {},
     "output_type": "execute_result"
    }
   ],
   "source": [
    "keys = list(outcomes.keys())\n",
    "keys"
   ]
  },
  {
   "cell_type": "code",
   "execution_count": 9,
   "metadata": {},
   "outputs": [],
   "source": [
    "#Make dataframe with outcomes\n",
    "fwb = ['Percentage of full fresh water buffer[Weir1]',\n",
    " 'Percentage of full fresh water buffer[Weir2]',\n",
    " 'Percentage of full fresh water buffer[Weir3]',\n",
    " 'Percentage of full fresh water buffer[Weir4]',\n",
    " 'Percentage of full fresh water buffer[Weir5]',\n",
    " 'Percentage of full fresh water buffer[Weir6]','Days of free flow']\n",
    "vel = keys[7:13]\n",
    "ship= keys[13:19]\n",
    "\n",
    "\n",
    "df_outcome = pd.DataFrame([[51]]*len(outcomes['TIME']))        \n",
    "        \n",
    "for j in range(len(fwb)):\n",
    "    array = []\n",
    "    for i in range(len(outcomes['TIME'])): \n",
    "        array.append(outcomes[fwb[j]][i][-1])\n",
    "    df_outcome[fwb[j]] = array\n",
    "\n",
    "for k in range(len(vel)):\n",
    "    array1 = []\n",
    "    for l in range(len(outcomes['TIME'])): \n",
    "        array1.append(np.mean(outcomes[vel[k]][l]))    \n",
    "    df_outcome[vel[k]] = array1\n",
    "\n",
    "for m in range(len(ship)):\n",
    "    array2 = []\n",
    "    for n in range(len(outcomes['TIME'])): \n",
    "        array2.append(np.max(outcomes[ship[m]][n]))    \n",
    "    df_outcome[ship[m]] = array2  \n",
    "\n",
    "del df_outcome[0]"
   ]
  },
  {
   "cell_type": "code",
   "execution_count": 10,
   "metadata": {},
   "outputs": [],
   "source": [
    "#Add uncertainties to outcomes dataframe \n",
    "uncertain = experiments.keys().tolist()\n",
    "\n",
    "for i in range(len(uncertain)):\n",
    "    if experiments.keys()[i]==uncertain[i]:\n",
    "        a = experiments.iloc[:,i].tolist()\n",
    "        df_outcome[uncertain[i]] = a"
   ]
  },
  {
   "cell_type": "code",
   "execution_count": 11,
   "metadata": {},
   "outputs": [],
   "source": [
    "#Give scenarios and policies a clear name\n",
    "experiments[['Climate scenario']] = experiments[['Climate scenario']].replace([1, 2], \n",
    "                                               [CS1, CS2])\n"
   ]
  },
  {
   "cell_type": "code",
   "execution_count": 12,
   "metadata": {
    "scrolled": true
   },
   "outputs": [],
   "source": [
    "#Group simulation year\n",
    "\n",
    "year_2020_2030 = np.linspace(2020,2029,10)\n",
    "year_2030_2040 = np.linspace(2030,2039,10)\n",
    "year_2040_2050 = np.linspace(2040,2049,10)\n",
    "year_2050_2060 = np.linspace(2050,2059,10)\n",
    "year_2060_2070 = np.linspace(2060,2069,10)\n",
    "year_2070_2080 = np.linspace(2070,2079,10)\n",
    "year_2080_2090 = np.linspace(2080,2089,10)\n",
    "year_2090_2100 = np.linspace(2090,2100,11)\n",
    "experiments[['Simulated year']] = experiments[['Simulated year']].replace(year_2020_2030, \n",
    "                                               '2020-2030')\n",
    "experiments[['Simulated year']] = experiments[['Simulated year']].replace(year_2030_2040, \n",
    "                                               '2030-2040')\n",
    "experiments[['Simulated year']] = experiments[['Simulated year']].replace(year_2040_2050, \n",
    "                                               '2040-2050')\n",
    "experiments[['Simulated year']] = experiments[['Simulated year']].replace(year_2050_2060, \n",
    "                                               '2050-2060')\n",
    "experiments[['Simulated year']] = experiments[['Simulated year']].replace(year_2060_2070, \n",
    "                                               '2060-2070')\n",
    "experiments[['Simulated year']] = experiments[['Simulated year']].replace(year_2070_2080, \n",
    "                                               '2070-2080')\n",
    "experiments[['Simulated year']] = experiments[['Simulated year']].replace(year_2080_2090, \n",
    "                                               '2080-2090')\n",
    "experiments[['Simulated year']] = experiments[['Simulated year']].replace(year_2090_2100, \n",
    "                                               '2090-2100')"
   ]
  },
  {
   "cell_type": "code",
   "execution_count": 13,
   "metadata": {},
   "outputs": [],
   "source": [
    "#Group draught period intensity\n",
    "\n",
    "discharge_20_25 = [20,21,22,23,24]\n",
    "discharge_25_30 = [25,26,27,28,29]\n",
    "discharge_30_35 = [30,31,32,33,34]\n",
    "discharge_35_40 = [35,36,37,38,39]\n",
    "discharge_40_45 = [40,41,42,43,44,45]\n",
    "\n",
    "experiments[['Draught period intensity']] = experiments[['Draught period intensity']].replace(discharge_20_25, \n",
    "                                               '20-25 $m^3/s$')\n",
    "experiments[['Draught period intensity']] = experiments[['Draught period intensity']].replace(discharge_25_30, \n",
    "                                               '25-30 $m^3/s$')\n",
    "experiments[['Draught period intensity']] = experiments[['Draught period intensity']].replace(discharge_30_35, \n",
    "                                               '30-35 $m^3/s$')\n",
    "experiments[['Draught period intensity']] = experiments[['Draught period intensity']].replace(discharge_35_40, \n",
    "                                               '35-40 $m^3/s$')\n",
    "experiments[['Draught period intensity']] = experiments[['Draught period intensity']].replace(discharge_40_45, \n",
    "                                               '40-45 $m^3/s$')\n"
   ]
  },
  {
   "cell_type": "code",
   "execution_count": 15,
   "metadata": {},
   "outputs": [],
   "source": [
    "#Save dataframe to excel \n",
    "df_outcome.to_excel(r\"C:\\Users\\douwe\\OneDrive\\Documenten\\1.0 School\\8.0 Thesis\\5.0 Execution\\Maasmodel\\Results\\base_dataframe.xlsx\")"
   ]
  },
  {
   "cell_type": "code",
   "execution_count": null,
   "metadata": {},
   "outputs": [],
   "source": []
  }
 ],
 "metadata": {
  "kernelspec": {
   "display_name": "Python 3",
   "language": "python",
   "name": "python3"
  },
  "language_info": {
   "codemirror_mode": {
    "name": "ipython",
    "version": 3
   },
   "file_extension": ".py",
   "mimetype": "text/x-python",
   "name": "python",
   "nbconvert_exporter": "python",
   "pygments_lexer": "ipython3",
   "version": "3.6.6"
  },
  "latex_envs": {
   "LaTeX_envs_menu_present": true,
   "autoclose": false,
   "autocomplete": true,
   "bibliofile": "biblio.bib",
   "cite_by": "apalike",
   "current_citInitial": 1,
   "eqLabelWithNumbers": true,
   "eqNumInitial": 1,
   "hotkeys": {
    "equation": "Ctrl-E",
    "itemize": "Ctrl-I"
   },
   "labels_anchors": false,
   "latex_user_defs": false,
   "report_style_numbering": false,
   "user_envs_cfg": false
  }
 },
 "nbformat": 4,
 "nbformat_minor": 2
}
